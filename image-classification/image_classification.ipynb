{
 "cells": [
  {
   "cell_type": "markdown",
   "metadata": {
    "collapsed": true
   },
   "source": [
    "# Image Classification\n",
    "In this project, you'll classify images from the [CIFAR-10 dataset](https://www.cs.toronto.edu/~kriz/cifar.html).  The dataset consists of airplanes, dogs, cats, and other objects. You'll preprocess the images, then train a convolutional neural network on all the samples. The images need to be normalized and the labels need to be one-hot encoded.  You'll get to apply what you learned and build a convolutional, max pooling, dropout, and fully connected layers.  At the end, you'll get to see your neural network's predictions on the sample images.\n",
    "## Get the Data\n",
    "Run the following cell to download the [CIFAR-10 dataset for python](https://www.cs.toronto.edu/~kriz/cifar-10-python.tar.gz)."
   ]
  },
  {
   "cell_type": "code",
   "execution_count": 1,
   "metadata": {},
   "outputs": [
    {
     "name": "stdout",
     "output_type": "stream",
     "text": [
      "All files found!\n"
     ]
    }
   ],
   "source": [
    "\"\"\"\n",
    "DON'T MODIFY ANYTHING IN THIS CELL THAT IS BELOW THIS LINE\n",
    "\"\"\"\n",
    "from urllib.request import urlretrieve\n",
    "from os.path import isfile, isdir\n",
    "from tqdm import tqdm\n",
    "import problem_unittests as tests\n",
    "import tarfile\n",
    "import numpy as np\n",
    "\n",
    "cifar10_dataset_folder_path = 'cifar-10-batches-py'\n",
    "\n",
    "class DLProgress(tqdm):\n",
    "    last_block = 0\n",
    "\n",
    "    def hook(self, block_num=1, block_size=1, total_size=None):\n",
    "        self.total = total_size\n",
    "        self.update((block_num - self.last_block) * block_size)\n",
    "        self.last_block = block_num\n",
    "\n",
    "if not isfile('cifar-10-python.tar.gz'):\n",
    "    with DLProgress(unit='B', unit_scale=True, miniters=1, desc='CIFAR-10 Dataset') as pbar:\n",
    "        urlretrieve(\n",
    "            'https://www.cs.toronto.edu/~kriz/cifar-10-python.tar.gz',\n",
    "            'cifar-10-python.tar.gz',\n",
    "            pbar.hook)\n",
    "\n",
    "if not isdir(cifar10_dataset_folder_path):\n",
    "    with tarfile.open('cifar-10-python.tar.gz') as tar:\n",
    "        tar.extractall()\n",
    "        tar.close()\n",
    "\n",
    "\n",
    "tests.test_folder_path(cifar10_dataset_folder_path)"
   ]
  },
  {
   "cell_type": "markdown",
   "metadata": {},
   "source": [
    "## Explore the Data\n",
    "The dataset is broken into batches to prevent your machine from running out of memory.  The CIFAR-10 dataset consists of 5 batches, named `data_batch_1`, `data_batch_2`, etc.. Each batch contains the labels and images that are one of the following:\n",
    "* airplane\n",
    "* automobile\n",
    "* bird\n",
    "* cat\n",
    "* deer\n",
    "* dog\n",
    "* frog\n",
    "* horse\n",
    "* ship\n",
    "* truck\n",
    "\n",
    "Understanding a dataset is part of making predictions on the data.  Play around with the code cell below by changing the `batch_id` and `sample_id`. The `batch_id` is the id for a batch (1-5). The `sample_id` is the id for a image and label pair in the batch.\n",
    "\n",
    "Ask yourself \"What are all possible labels?\", \"What is the range of values for the image data?\", \"Are the labels in order or random?\".  Answers to questions like these will help you preprocess the data and end up with better predictions."
   ]
  },
  {
   "cell_type": "code",
   "execution_count": 2,
   "metadata": {},
   "outputs": [
    {
     "name": "stdout",
     "output_type": "stream",
     "text": [
      "\n",
      "Stats of batch 1:\n",
      "Samples: 10000\n",
      "Label Counts: {0: 1005, 1: 974, 2: 1032, 3: 1016, 4: 999, 5: 937, 6: 1030, 7: 1001, 8: 1025, 9: 981}\n",
      "First 20 Labels: [6, 9, 9, 4, 1, 1, 2, 7, 8, 3, 4, 7, 7, 2, 9, 9, 9, 3, 2, 6]\n",
      "\n",
      "Example of Image 105:\n",
      "Image - Min Value: 0 Max Value: 255\n",
      "Image - Shape: (32, 32, 3)\n",
      "Label - Label Id: 1 Name: automobile\n"
     ]
    },
    {
     "data": {
      "image/png": "[encoded data removed]",
      "text/plain": [
       "<matplotlib.figure.Figure at 0x10e322ef0>"
      ]
     },
     "metadata": {
      "image/png": {
       "height": 250,
       "width": 253
      }
     },
     "output_type": "display_data"
    }
   ],
   "source": [
    "%matplotlib inline\n",
    "%config InlineBackend.figure_format = 'retina'\n",
    "\n",
    "import helper\n",
    "import numpy as np\n",
    "\n",
    "# Explore the dataset\n",
    "batch_id = 1\n",
    "sample_id = 105\n",
    "helper.display_stats(cifar10_dataset_folder_path, batch_id, sample_id)"
   ]
  },
  {
   "cell_type": "markdown",
   "metadata": {},
   "source": [
    "## Implement Preprocess Functions\n",
    "### Normalize\n",
    "In the cell below, implement the `normalize` function to take in image data, `x`, and return it as a normalized Numpy array. The values should be in the range of 0 to 1, inclusive.  The return object should be the same shape as `x`."
   ]
  },
  {
   "cell_type": "code",
   "execution_count": 3,
   "metadata": {
    "scrolled": true
   },
   "outputs": [
    {
     "name": "stdout",
     "output_type": "stream",
     "text": [
      "max val 255\n",
      "min val 0\n",
      "Tests Passed\n"
     ]
    }
   ],
   "source": [
    "def normalize(x):\n",
    "    \"\"\"\n",
    "    Normalize a list of sample image data in the range of 0 to 1\n",
    "    : x: List of image data.  The image shape is (32, 32, 3)\n",
    "    : return: Numpy array of normalize data\n",
    "    \"\"\"\n",
    "    \n",
    "    maxVal = np.max(x)\n",
    "    print('max val {}'.format(maxVal))\n",
    "    minVal = np.min(x)\n",
    "    print('min val {}'.format(minVal))\n",
    "    result = (x - minVal) / (maxVal - minVal)\n",
    "    #print(result)\n",
    "    return result\n",
    "\n",
    "\"\"\"\n",
    "DON'T MODIFY ANYTHING IN THIS CELL THAT IS BELOW THIS LINE\n",
    "\"\"\"\n",
    "tests.test_normalize(normalize)"
   ]
  },
  {
   "cell_type": "markdown",
   "metadata": {},
   "source": [
    "### One-hot encode\n",
    "Just like the previous code cell, you'll be implementing a function for preprocessing.  This time, you'll implement the `one_hot_encode` function. The input, `x`, are a list of labels.  Implement the function to return the list of labels as One-Hot encoded Numpy array.  The possible values for labels are 0 to 9. The one-hot encoding function should return the same encoding for each value between each call to `one_hot_encode`.  Make sure to save the map of encodings outside the function.\n",
    "\n",
    "**Hint:**\n",
    "\n",
    "Look into LabelBinarizer in the preprocessing module of sklearn."
   ]
  },
  {
   "cell_type": "code",
   "execution_count": 7,
   "metadata": {},
   "outputs": [
    {
     "name": "stdout",
     "output_type": "stream",
     "text": [
      "Tests Passed\n"
     ]
    }
   ],
   "source": [
    "from sklearn import preprocessing\n",
    "def one_hot_encode(x):\n",
    "    \"\"\"\n",
    "    One hot encode a list of sample labels. Return a one-hot encoded vector for each label.\n",
    "    : x: List of sample Labels\n",
    "    : return: Numpy array of one-hot encoded labels\n",
    "    \"\"\"\n",
    "    \n",
    "    # Create encoder\n",
    "    label_binarizer = preprocessing.LabelBinarizer()\n",
    "    \n",
    "    #assign one hot vector\n",
    "    label_binarizer.fit(range(max(x)+1))\n",
    "    \n",
    "    #transform labels into one hot vector\n",
    "    result = label_binarizer.transform(x)\n",
    "    return result\n",
    "\n",
    "\n",
    "\"\"\"\n",
    "DON'T MODIFY ANYTHING IN THIS CELL THAT IS BELOW THIS LINE\n",
    "\"\"\"\n",
    "tests.test_one_hot_encode(one_hot_encode)"
   ]
  },
  {
   "cell_type": "markdown",
   "metadata": {},
   "source": [
    "### Randomize Data\n",
    "As you saw from exploring the data above, the order of the samples are randomized.  It doesn't hurt to randomize it again, but you don't need to for this dataset."
   ]
  },
  {
   "cell_type": "markdown",
   "metadata": {},
   "source": [
    "## Preprocess all the data and save it\n",
    "Running the code cell below will preprocess all the CIFAR-10 data and save it to file. The code below also uses 10% of the training data for validation."
   ]
  },
  {
   "cell_type": "code",
   "execution_count": 8,
   "metadata": {},
   "outputs": [
    {
     "name": "stdout",
     "output_type": "stream",
     "text": [
      "max val 255\n",
      "min val 0\n",
      "max val 255\n",
      "min val 0\n",
      "max val 255\n",
      "min val 0\n",
      "max val 255\n",
      "min val 0\n",
      "max val 255\n",
      "min val 0\n",
      "max val 255\n",
      "min val 0\n",
      "max val 255\n",
      "min val 0\n"
     ]
    }
   ],
   "source": [
    "\"\"\"\n",
    "DON'T MODIFY ANYTHING IN THIS CELL\n",
    "\"\"\"\n",
    "# Preprocess Training, Validation, and Testing Data\n",
    "helper.preprocess_and_save_data(cifar10_dataset_folder_path, normalize, one_hot_encode)"
   ]
  },
  {
   "cell_type": "markdown",
   "metadata": {},
   "source": [
    "# Check Point\n",
    "This is your first checkpoint.  If you ever decide to come back to this notebook or have to restart the notebook, you can start from here.  The preprocessed data has been saved to disk."
   ]
  },
  {
   "cell_type": "code",
   "execution_count": 9,
   "metadata": {
    "collapsed": true
   },
   "outputs": [],
   "source": [
    "\"\"\"\n",
    "DON'T MODIFY ANYTHING IN THIS CELL\n",
    "\"\"\"\n",
    "import pickle\n",
    "import problem_unittests as tests\n",
    "import helper\n",
    "\n",
    "# Load the Preprocessed Validation data\n",
    "valid_features, valid_labels = pickle.load(open('preprocess_validation.p', mode='rb'))"
   ]
  },
  {
   "cell_type": "markdown",
   "metadata": {},
   "source": [
    "## Build the network\n",
    "For the neural network, you'll build each layer into a function.  Most of the code you've seen has been outside of functions. To test your code more thoroughly, we require that you put each layer in a function.  This allows us to give you better feedback and test for simple mistakes using our unittests before you submit your project.\n",
    "\n",
    ">**Note:** If you're finding it hard to dedicate enough time for this course each week, we've provided a small shortcut to this part of the project. In the next couple of problems, you'll have the option to use classes from the [TensorFlow Layers](https://www.tensorflow.org/api_docs/python/tf/layers) or [TensorFlow Layers (contrib)](https://www.tensorflow.org/api_guides/python/contrib.layers) packages to build each layer, except the layers you build in the \"Convolutional and Max Pooling Layer\" section.  TF Layers is similar to Keras's and TFLearn's abstraction to layers, so it's easy to pickup.\n",
    "\n",
    ">However, if you would like to get the most out of this course, try to solve all the problems _without_ using anything from the TF Layers packages. You **can** still use classes from other packages that happen to have the same name as ones you find in TF Layers! For example, instead of using the TF Layers version of the `conv2d` class, [tf.layers.conv2d](https://www.tensorflow.org/api_docs/python/tf/layers/conv2d), you would want to use the TF Neural Network version of `conv2d`, [tf.nn.conv2d](https://www.tensorflow.org/api_docs/python/tf/nn/conv2d). \n",
    "\n",
    "Let's begin!\n",
    "\n",
    "### Input\n",
    "The neural network needs to read the image data, one-hot encoded labels, and dropout keep probability. Implement the following functions\n",
    "* Implement `neural_net_image_input`\n",
    " * Return a [TF Placeholder](https://www.tensorflow.org/api_docs/python/tf/placeholder)\n",
    " * Set the shape using `image_shape` with batch size set to `None`.\n",
    " * Name the TensorFlow placeholder \"x\" using the TensorFlow `name` parameter in the [TF Placeholder](https://www.tensorflow.org/api_docs/python/tf/placeholder).\n",
    "* Implement `neural_net_label_input`\n",
    " * Return a [TF Placeholder](https://www.tensorflow.org/api_docs/python/tf/placeholder)\n",
    " * Set the shape using `n_classes` with batch size set to `None`.\n",
    " * Name the TensorFlow placeholder \"y\" using the TensorFlow `name` parameter in the [TF Placeholder](https://www.tensorflow.org/api_docs/python/tf/placeholder).\n",
    "* Implement `neural_net_keep_prob_input`\n",
    " * Return a [TF Placeholder](https://www.tensorflow.org/api_docs/python/tf/placeholder) for dropout keep probability.\n",
    " * Name the TensorFlow placeholder \"keep_prob\" using the TensorFlow `name` parameter in the [TF Placeholder](https://www.tensorflow.org/api_docs/python/tf/placeholder).\n",
    "\n",
    "These names will be used at the end of the project to load your saved model.\n",
    "\n",
    "Note: `None` for shapes in TensorFlow allow for a dynamic size."
   ]
  },
  {
   "cell_type": "code",
   "execution_count": 10,
   "metadata": {},
   "outputs": [
    {
     "name": "stdout",
     "output_type": "stream",
     "text": [
      "image_shape= (32, 32, 3)\n",
      "Image Input Tests Passed.\n",
      "n_classes= 10\n",
      "Label Input Tests Passed.\n",
      "Keep Prob Tests Passed.\n"
     ]
    }
   ],
   "source": [
    "import tensorflow as tf\n",
    "\n",
    "def neural_net_image_input(image_shape):\n",
    "    \"\"\"\n",
    "    Return a Tensor for a batch of image input\n",
    "    : image_shape: Shape of the images\n",
    "    : return: Tensor for image input.\n",
    "    \"\"\"\n",
    "    print('image_shape= {}'.format(image_shape))\n",
    "    return tf.placeholder(tf.float32, [None, image_shape[0], image_shape[1], image_shape[2]], name=\"x\")\n",
    "\n",
    "def neural_net_label_input(n_classes):\n",
    "    \"\"\"\n",
    "    Return a Tensor for a batch of label input\n",
    "    : n_classes: Number of classes\n",
    "    : return: Tensor for label input.\n",
    "    \"\"\"\n",
    "    print('n_classes= {}'.format(n_classes))\n",
    "    return tf.placeholder(tf.float32, [None, n_classes], name=\"y\")\n",
    "\n",
    "\n",
    "def neural_net_keep_prob_input():\n",
    "    \"\"\"\n",
    "    Return a Tensor for keep probability\n",
    "    : return: Tensor for keep probability.\n",
    "    \"\"\"\n",
    "    return tf.placeholder(tf.float32, name=\"keep_prob\")\n",
    "\n",
    "\n",
    "\"\"\"\n",
    "DON'T MODIFY ANYTHING IN THIS CELL THAT IS BELOW THIS LINE\n",
    "\"\"\"\n",
    "tf.reset_default_graph()\n",
    "tests.test_nn_image_inputs(neural_net_image_input)\n",
    "tests.test_nn_label_inputs(neural_net_label_input)\n",
    "tests.test_nn_keep_prob_inputs(neural_net_keep_prob_input)"
   ]
  },
  {
   "cell_type": "markdown",
   "metadata": {},
   "source": [
    "### Convolution and Max Pooling Layer\n",
    "Convolution layers have a lot of success with images. For this code cell, you should implement the function `conv2d_maxpool` to apply convolution then max pooling:\n",
    "* Create the weight and bias using `conv_ksize`, `conv_num_outputs` and the shape of `x_tensor`.\n",
    "* Apply a convolution to `x_tensor` using weight and `conv_strides`.\n",
    " * We recommend you use same padding, but you're welcome to use any padding.\n",
    "* Add bias\n",
    "* Add a nonlinear activation to the convolution.\n",
    "* Apply Max Pooling using `pool_ksize` and `pool_strides`.\n",
    " * We recommend you use same padding, but you're welcome to use any padding.\n",
    "\n",
    "**Note:** You **can't** use [TensorFlow Layers](https://www.tensorflow.org/api_docs/python/tf/layers) or [TensorFlow Layers (contrib)](https://www.tensorflow.org/api_guides/python/contrib.layers) for **this** layer, but you can still use TensorFlow's [Neural Network](https://www.tensorflow.org/api_docs/python/tf/nn) package. You may still use the shortcut option for all the **other** layers.\n",
    "\n",
    "** Hint: **\n",
    "\n",
    "When unpacking values as an argument in Python, look into the [unpacking](https://docs.python.org/3/tutorial/controlflow.html#unpacking-argument-lists) operator. "
   ]
  },
  {
   "cell_type": "code",
   "execution_count": 11,
   "metadata": {},
   "outputs": [
    {
     "name": "stdout",
     "output_type": "stream",
     "text": [
      "10\n",
      "x_tensor Tensor(\"Placeholder:0\", shape=(?, 32, 32, 5), dtype=float32)\n",
      "conv_strides (4, 4)\n",
      "conv_ksize (2, 2)\n",
      "depth (?, 32, 32, 5)\n",
      "Tests Passed\n"
     ]
    }
   ],
   "source": [
    "def conv2d_maxpool(x_tensor, conv_num_outputs, conv_ksize, conv_strides, pool_ksize, pool_strides):\n",
    "    \"\"\"\n",
    "    Apply convolution then max pooling to x_tensor\n",
    "    :param x_tensor: TensorFlow Tensor\n",
    "    :param conv_num_outputs: Number of outputs for the convolutional layer\n",
    "    :param conv_ksize: kernal size 2-D Tuple for the convolutional layer\n",
    "    :param conv_strides: Stride 2-D Tuple for convolution\n",
    "    :param pool_ksize: kernal size 2-D Tuple for pool\n",
    "    :param pool_strides: Stride 2-D Tuple for pool\n",
    "    : return: A tensor that represents convolution and max pooling of x_tensor\n",
    "    \"\"\"\n",
    "    print(conv_num_outputs)\n",
    "    print('x_tensor {}'.format(x_tensor))\n",
    "    print('conv_strides {}'.format(conv_strides))\n",
    "    print('conv_ksize {}'.format(conv_ksize))\n",
    "    depth = x_tensor.get_shape().as_list()[-1] #np.shape(x_tensor)[3]\n",
    "    print('depth {}'.format(x_tensor.get_shape()))\n",
    "    \n",
    "    # can use either truncated_normal or random_normal\n",
    "    # The tf.truncated_normal() function returns a tensor with random values from a normal distribution whose magnitude is no more than 2 standard deviations from the mean.\n",
    "    weight = tf.Variable(tf.truncated_normal(\n",
    "        [conv_ksize[0], conv_ksize[1], depth, conv_num_outputs],\n",
    "        stddev=0.1\n",
    "    ))\n",
    "    \n",
    "    #Since the weights are already helping prevent the model from getting stuck, we don't need to randomize the bias.\n",
    "    biases = tf.Variable(tf.zeros(conv_num_outputs))\n",
    "    \n",
    "    conv2d = tf.nn.conv2d(x_tensor, weight, [1, conv_strides[0], conv_strides[1], 1], padding='SAME')\n",
    "    \n",
    "    # non linear activation\n",
    "    conv1 = tf.nn.relu(conv2d + biases)  \n",
    "    \n",
    "    # max pooling\n",
    "    return tf.nn.max_pool(conv1, \n",
    "                           [1, pool_ksize[0], pool_ksize[1], 1],\n",
    "                           [1, pool_strides[0], pool_strides[1], 1]\n",
    "                           , padding='SAME')\n",
    "\n",
    "\"\"\"\n",
    "DON'T MODIFY ANYTHING IN THIS CELL THAT IS BELOW THIS LINE\n",
    "\"\"\"\n",
    "tests.test_con_pool(conv2d_maxpool)"
   ]
  },
  {
   "cell_type": "markdown",
   "metadata": {},
   "source": [
    "### Flatten Layer\n",
    "Implement the `flatten` function to change the dimension of `x_tensor` from a 4-D tensor to a 2-D tensor.  The output should be the shape (*Batch Size*, *Flattened Image Size*). Shortcut option: you can use classes from the [TensorFlow Layers](https://www.tensorflow.org/api_docs/python/tf/layers) or [TensorFlow Layers (contrib)](https://www.tensorflow.org/api_guides/python/contrib.layers) packages for this layer. For more of a challenge, only use other TensorFlow packages."
   ]
  },
  {
   "cell_type": "code",
   "execution_count": 12,
   "metadata": {},
   "outputs": [
    {
     "name": "stdout",
     "output_type": "stream",
     "text": [
      "x_tensor Tensor(\"Placeholder_1:0\", shape=(?, 10, 30, 6), dtype=float32)\n",
      " shape [None, 10, 30, 6]\n",
      "length_of_arr 1800\n",
      "Tests Passed\n"
     ]
    }
   ],
   "source": [
    "def flatten(x_tensor):\n",
    "    \"\"\"\n",
    "    Flatten x_tensor to (Batch Size, Flattened Image Size)\n",
    "    : x_tensor: A tensor of size (Batch Size, ...), where ... are the image dimensions.\n",
    "    : return: A tensor of size (Batch Size, Flattened Image Size).\n",
    "    \"\"\"\n",
    "    # https://www.tensorflow.org/api_docs/python/tf/reshape\n",
    "    print('x_tensor {}'.format(x_tensor))\n",
    "    shape = np.shape(x_tensor).as_list()\n",
    "    #x_tensor.get_shape().as_list()\n",
    "    print(' shape {}'.format(shape))\n",
    "    \n",
    "    #10X30X6 should be converted to an array as 1800\n",
    "    arr = shape[1:] \n",
    "    length_of_arr = np.prod(arr)\n",
    "    print('length_of_arr {}'.format(length_of_arr))\n",
    "    \n",
    "    #return tf.reshape(x_tensor, [-1, length_of_arr])\n",
    "    return tf.reshape(x_tensor, [-1, length_of_arr])\n",
    "\n",
    "\n",
    "\"\"\"\n",
    "DON'T MODIFY ANYTHING IN THIS CELL THAT IS BELOW THIS LINE\n",
    "\"\"\"\n",
    "tests.test_flatten(flatten)"
   ]
  },
  {
   "cell_type": "markdown",
   "metadata": {},
   "source": [
    "### Fully-Connected Layer\n",
    "Implement the `fully_conn` function to apply a fully connected layer to `x_tensor` with the shape (*Batch Size*, *num_outputs*). Shortcut option: you can use classes from the [TensorFlow Layers](https://www.tensorflow.org/api_docs/python/tf/layers) or [TensorFlow Layers (contrib)](https://www.tensorflow.org/api_guides/python/contrib.layers) packages for this layer. For more of a challenge, only use other TensorFlow packages."
   ]
  },
  {
   "cell_type": "code",
   "execution_count": 13,
   "metadata": {},
   "outputs": [
    {
     "name": "stdout",
     "output_type": "stream",
     "text": [
      "[None, 128]\n",
      "Tests Passed\n"
     ]
    }
   ],
   "source": [
    "def fully_conn(x_tensor, num_outputs):\n",
    "    \"\"\"\n",
    "    Apply a fully connected layer to x_tensor using weight and bias\n",
    "    : x_tensor: A 2-D tensor where the first dimension is batch size.\n",
    "    : num_outputs: The number of output that the new tensor should be.\n",
    "    : return: A 2-D tensor where the second dimension is num_outputs.\n",
    "    \"\"\"\n",
    "    \n",
    "    shape = np.shape(x_tensor).as_list()\n",
    "    print(shape)\n",
    "    \n",
    "    weight = tf.Variable(tf.truncated_normal(\n",
    "        [shape[-1], num_outputs],\n",
    "        stddev=0.1\n",
    "    ))\n",
    "    \n",
    "    biases = tf.Variable(tf.zeros(num_outputs))\n",
    "    \n",
    "    return tf.nn.relu(tf.add(tf.matmul(x_tensor, weight), biases))\n",
    "\n",
    "\n",
    "\"\"\"\n",
    "DON'T MODIFY ANYTHING IN THIS CELL THAT IS BELOW THIS LINE\n",
    "\"\"\"\n",
    "tests.test_fully_conn(fully_conn)"
   ]
  },
  {
   "cell_type": "markdown",
   "metadata": {},
   "source": [
    "### Output Layer\n",
    "Implement the `output` function to apply a fully connected layer to `x_tensor` with the shape (*Batch Size*, *num_outputs*). Shortcut option: you can use classes from the [TensorFlow Layers](https://www.tensorflow.org/api_docs/python/tf/layers) or [TensorFlow Layers (contrib)](https://www.tensorflow.org/api_guides/python/contrib.layers) packages for this layer. For more of a challenge, only use other TensorFlow packages.\n",
    "\n",
    "**Note:** Activation, softmax, or cross entropy should **not** be applied to this."
   ]
  },
  {
   "cell_type": "code",
   "execution_count": 14,
   "metadata": {},
   "outputs": [
    {
     "name": "stdout",
     "output_type": "stream",
     "text": [
      "Tests Passed\n"
     ]
    }
   ],
   "source": [
    "def output(x_tensor, num_outputs):\n",
    "    \"\"\"\n",
    "    Apply a output layer to x_tensor using weight and bias\n",
    "    : x_tensor: A 2-D tensor where the first dimension is batch size.\n",
    "    : num_outputs: The number of output that the new tensor should be.\n",
    "    : return: A 2-D tensor where the second dimension is num_outputs.\n",
    "    \"\"\"\n",
    "\n",
    "    # out = tf.add(tf.matmul(fc1, weights['out']), biases['out'])\n",
    "    shape = np.shape(x_tensor).as_list()\n",
    "    \n",
    "    weight = tf.Variable(tf.truncated_normal(\n",
    "        [shape[-1], num_outputs],\n",
    "        stddev=0.1\n",
    "    ))\n",
    "    \n",
    "    biases = tf.Variable(tf.zeros(num_outputs))\n",
    "    \n",
    "    return tf.add(tf.matmul(x_tensor, weight), biases)\n",
    "\n",
    "\n",
    "\"\"\"\n",
    "DON'T MODIFY ANYTHING IN THIS CELL THAT IS BELOW THIS LINE\n",
    "\"\"\"\n",
    "tests.test_output(output)"
   ]
  },
  {
   "cell_type": "markdown",
   "metadata": {},
   "source": [
    "### Create Convolutional Model\n",
    "Implement the function `conv_net` to create a convolutional neural network model. The function takes in a batch of images, `x`, and outputs logits.  Use the layers you created above to create this model:\n",
    "\n",
    "* Apply 1, 2, or 3 Convolution and Max Pool layers\n",
    "* Apply a Flatten Layer\n",
    "* Apply 1, 2, or 3 Fully Connected Layers\n",
    "* Apply an Output Layer\n",
    "* Return the output\n",
    "* Apply [TensorFlow's Dropout](https://www.tensorflow.org/api_docs/python/tf/nn/dropout) to one or more layers in the model using `keep_prob`. "
   ]
  },
  {
   "cell_type": "code",
   "execution_count": 15,
   "metadata": {},
   "outputs": [
    {
     "name": "stdout",
     "output_type": "stream",
     "text": [
      "image_shape= (32, 32, 3)\n",
      "n_classes= 10\n",
      "32\n",
      "x_tensor Tensor(\"x:0\", shape=(?, 32, 32, 3), dtype=float32)\n",
      "conv_strides [1, 1]\n",
      "conv_ksize [3, 3]\n",
      "depth (?, 32, 32, 3)\n",
      "64\n",
      "x_tensor Tensor(\"MaxPool:0\", shape=(?, 16, 16, 32), dtype=float32)\n",
      "conv_strides [1, 1]\n",
      "conv_ksize [3, 3]\n",
      "depth (?, 16, 16, 32)\n",
      "128\n",
      "x_tensor Tensor(\"MaxPool_1:0\", shape=(?, 8, 8, 64), dtype=float32)\n",
      "conv_strides [1, 1]\n",
      "conv_ksize [3, 3]\n",
      "depth (?, 8, 8, 64)\n",
      "x_tensor Tensor(\"MaxPool_2:0\", shape=(?, 4, 4, 128), dtype=float32)\n",
      " shape [None, 4, 4, 128]\n",
      "length_of_arr 2048\n",
      "[None, 2048]\n",
      "[None, 100]\n",
      "32\n",
      "x_tensor Tensor(\"Placeholder:0\", shape=(?, 32, 32, 3), dtype=float32)\n",
      "conv_strides [1, 1]\n",
      "conv_ksize [3, 3]\n",
      "depth (?, 32, 32, 3)\n",
      "64\n",
      "x_tensor Tensor(\"MaxPool_3:0\", shape=(?, 16, 16, 32), dtype=float32)\n",
      "conv_strides [1, 1]\n",
      "conv_ksize [3, 3]\n",
      "depth (?, 16, 16, 32)\n",
      "128\n",
      "x_tensor Tensor(\"MaxPool_4:0\", shape=(?, 8, 8, 64), dtype=float32)\n",
      "conv_strides [1, 1]\n",
      "conv_ksize [3, 3]\n",
      "depth (?, 8, 8, 64)\n",
      "x_tensor Tensor(\"MaxPool_5:0\", shape=(?, 4, 4, 128), dtype=float32)\n",
      " shape [None, 4, 4, 128]\n",
      "length_of_arr 2048\n",
      "[None, 2048]\n",
      "[None, 100]\n",
      "Neural Network Built!\n"
     ]
    }
   ],
   "source": [
    "def conv_net(x, keep_prob):\n",
    "    \"\"\"\n",
    "    Create a convolutional neural network model\n",
    "    : x: Placeholder tensor that holds image data.\n",
    "    : keep_prob: Placeholder tensor that hold dropout keep probability.\n",
    "    : return: Tensor that represents logits\n",
    "    \"\"\"\n",
    "    # TODO: Apply 1, 2, or 3 Convolution and Max Pool layers\n",
    "    #    Play around with different number of outputs, kernel size and stride\n",
    "    # Function Definition from Above:\n",
    "    #    conv2d_maxpool(x_tensor, conv_num_outputs, conv_ksize, conv_strides, pool_ksize, pool_strides)\n",
    "    \n",
    "    conv_num_outputs_one = 32\n",
    "    conv_num_outputs_two = 64\n",
    "    conv_num_outputs_three = 128\n",
    "    \n",
    "    conv_ksize = [3, 3]\n",
    "    pool_strides = [2, 2]\n",
    "    conv_strides = [1, 1]\n",
    "    pool_ksize = [2, 2]\n",
    "    \n",
    "    conv_layer_one = conv2d_maxpool(x, conv_num_outputs_one, conv_ksize, conv_strides, pool_ksize, pool_strides)\n",
    "    \n",
    "    conv_layer_two = conv2d_maxpool(conv_layer_one, conv_num_outputs_two, conv_ksize, conv_strides, pool_ksize, pool_strides)\n",
    "    \n",
    "    conv_layer_three = conv2d_maxpool(conv_layer_two, conv_num_outputs_three, conv_ksize, conv_strides, pool_ksize, pool_strides)\n",
    "    \n",
    "    # TODO: Apply a Flatten Layer\n",
    "    # Function Definition from Above:\n",
    "    #   flatten(x_tensor)\n",
    "    flatten_layer = flatten(conv_layer_three)\n",
    "    \n",
    "\n",
    "    # TODO: Apply 1, 2, or 3 Fully Connected Layers\n",
    "    #    Play around with different number of outputs\n",
    "    # Function Definition from Above:\n",
    "    #   fully_conn(x_tensor, num_outputs)\n",
    "    fully_connected_layer_one = fully_conn(flatten_layer, 100)\n",
    "    fully_dropout = tf.nn.dropout(fully_connected_layer_one, keep_prob)\n",
    "    \n",
    "    fully_connected_layer_two = fully_conn(fully_dropout, 100)\n",
    "\n",
    "    \n",
    "    # TODO: Apply an Output Layer\n",
    "    #    Set this to the number of classes\n",
    "    # Function Definition from Above:\n",
    "    #   output(x_tensor, num_outputs)\n",
    "    num_classes=10\n",
    "    output_layer = output(fully_connected_layer_two, num_classes)\n",
    "    \n",
    "    # TODO: return output\n",
    "    #return None\n",
    "    return output_layer\n",
    "\n",
    "\n",
    "\"\"\"\n",
    "DON'T MODIFY ANYTHING IN THIS CELL THAT IS BELOW THIS LINE\n",
    "\"\"\"\n",
    "\n",
    "##############################\n",
    "## Build the Neural Network ##\n",
    "##############################\n",
    "\n",
    "# Remove previous weights, bias, inputs, etc..\n",
    "tf.reset_default_graph()\n",
    "\n",
    "# Inputs\n",
    "x = neural_net_image_input((32, 32, 3))\n",
    "y = neural_net_label_input(10)\n",
    "keep_prob = neural_net_keep_prob_input()\n",
    "\n",
    "# Model\n",
    "logits = conv_net(x, keep_prob)\n",
    "\n",
    "# Name logits Tensor, so that is can be loaded from disk after training\n",
    "logits = tf.identity(logits, name='logits')\n",
    "\n",
    "# Loss and Optimizer\n",
    "cost = tf.reduce_mean(tf.nn.softmax_cross_entropy_with_logits(logits=logits, labels=y))\n",
    "optimizer = tf.train.AdamOptimizer().minimize(cost)\n",
    "\n",
    "# Accuracy\n",
    "correct_pred = tf.equal(tf.argmax(logits, 1), tf.argmax(y, 1))\n",
    "accuracy = tf.reduce_mean(tf.cast(correct_pred, tf.float32), name='accuracy')\n",
    "\n",
    "tests.test_conv_net(conv_net)"
   ]
  },
  {
   "cell_type": "markdown",
   "metadata": {},
   "source": [
    "## Train the Neural Network\n",
    "### Single Optimization\n",
    "Implement the function `train_neural_network` to do a single optimization.  The optimization should use `optimizer` to optimize in `session` with a `feed_dict` of the following:\n",
    "* `x` for image input\n",
    "* `y` for labels\n",
    "* `keep_prob` for keep probability for dropout\n",
    "\n",
    "This function will be called for each batch, so `tf.global_variables_initializer()` has already been called.\n",
    "\n",
    "Note: Nothing needs to be returned. This function is only optimizing the neural network."
   ]
  },
  {
   "cell_type": "code",
   "execution_count": 16,
   "metadata": {},
   "outputs": [
    {
     "name": "stdout",
     "output_type": "stream",
     "text": [
      "Tests Passed\n"
     ]
    }
   ],
   "source": [
    "def train_neural_network(session, optimizer, keep_probability, feature_batch, label_batch):\n",
    "    \"\"\"\n",
    "    Optimize the session on a batch of images and labels\n",
    "    : session: Current TensorFlow session\n",
    "    : optimizer: TensorFlow optimizer function\n",
    "    : keep_probability: keep probability\n",
    "    : feature_batch: Batch of Numpy image data\n",
    "    : label_batch: Batch of Numpy label data\n",
    "    \"\"\"\n",
    "    # TODO: Implement Function\n",
    "    #pass\n",
    "    session.run(optimizer, feed_dict={x: feature_batch,\n",
    "                                      y: label_batch,\n",
    "                                      keep_prob: keep_probability})\n",
    "\n",
    "\n",
    "\"\"\"\n",
    "DON'T MODIFY ANYTHING IN THIS CELL THAT IS BELOW THIS LINE\n",
    "\"\"\"\n",
    "tests.test_train_nn(train_neural_network)"
   ]
  },
  {
   "cell_type": "markdown",
   "metadata": {},
   "source": [
    "### Show Stats\n",
    "Implement the function `print_stats` to print loss and validation accuracy.  Use the global variables `valid_features` and `valid_labels` to calculate validation accuracy.  Use a keep probability of `1.0` to calculate the loss and validation accuracy."
   ]
  },
  {
   "cell_type": "code",
   "execution_count": 17,
   "metadata": {
    "collapsed": true
   },
   "outputs": [],
   "source": [
    "def print_stats(session, feature_batch, label_batch, cost, accuracy):\n",
    "    \"\"\"\n",
    "    Print information about loss and validation accuracy\n",
    "    : session: Current TensorFlow session\n",
    "    : feature_batch: Batch of Numpy image data\n",
    "    : label_batch: Batch of Numpy label data\n",
    "    : cost: TensorFlow cost function\n",
    "    : accuracy: TensorFlow accuracy function\n",
    "    \"\"\"\n",
    "    # Calculate batch loss and accuracy\n",
    "    print('print stats')\n",
    "    global valid_features, valid_labels\n",
    "    validation_accuracy = session.run(\n",
    "        accuracy,\n",
    "        feed_dict={\n",
    "            x: valid_features,\n",
    "            y: valid_labels,\n",
    "            keep_prob: 1.0,\n",
    "        }\n",
    "    )\n",
    "    cost = session.run(\n",
    "        cost,\n",
    "        feed_dict={\n",
    "            x: feature_batch,\n",
    "            y: label_batch,\n",
    "            keep_prob: 1.0,\n",
    "        }\n",
    "    )\n",
    "    print('Cost = {0} - Validation Accuracy = {1}'.format(cost, validation_accuracy))"
   ]
  },
  {
   "cell_type": "markdown",
   "metadata": {},
   "source": [
    "### Hyperparameters\n",
    "Tune the following parameters:\n",
    "* Set `epochs` to the number of iterations until the network stops learning or start overfitting\n",
    "* Set `batch_size` to the highest number that your machine has memory for.  Most people set them to common sizes of memory:\n",
    " * 64\n",
    " * 128\n",
    " * 256\n",
    " * ...\n",
    "* Set `keep_probability` to the probability of keeping a node using dropout"
   ]
  },
  {
   "cell_type": "code",
   "execution_count": 18,
   "metadata": {
    "collapsed": true
   },
   "outputs": [],
   "source": [
    "# TODO: Tune Parameters\n",
    "epochs = 20\n",
    "batch_size = 10\n",
    "keep_probability = 0.8"
   ]
  },
  {
   "cell_type": "markdown",
   "metadata": {},
   "source": [
    "### Train on a Single CIFAR-10 Batch\n",
    "Instead of training the neural network on all the CIFAR-10 batches of data, let's use a single batch. This should save time while you iterate on the model to get a better accuracy.  Once the final validation accuracy is 50% or greater, run the model on all the data in the next section."
   ]
  },
  {
   "cell_type": "code",
   "execution_count": 19,
   "metadata": {},
   "outputs": [
    {
     "name": "stdout",
     "output_type": "stream",
     "text": [
      "Checking the Training on a Single Batch...\n",
      "Epoch  1, CIFAR-10 Batch 1:  print stats\n",
      "Cost = 1.8008754253387451 - Validation Accuracy = 0.39959999918937683\n",
      "Epoch  2, CIFAR-10 Batch 1:  print stats\n",
      "Cost = 1.5178799629211426 - Validation Accuracy = 0.4885999858379364\n",
      "Epoch  3, CIFAR-10 Batch 1:  print stats\n",
      "Cost = 1.424534559249878 - Validation Accuracy = 0.5134000182151794\n",
      "Epoch  4, CIFAR-10 Batch 1:  print stats\n",
      "Cost = 1.20737886428833 - Validation Accuracy = 0.5486000180244446\n",
      "Epoch  5, CIFAR-10 Batch 1:  print stats\n",
      "Cost = 1.092437982559204 - Validation Accuracy = 0.569599986076355\n",
      "Epoch  6, CIFAR-10 Batch 1:  print stats\n",
      "Cost = 0.8683394193649292 - Validation Accuracy = 0.5544000267982483\n",
      "Epoch  7, CIFAR-10 Batch 1:  print stats\n",
      "Cost = 0.6845589876174927 - Validation Accuracy = 0.5727999806404114\n",
      "Epoch  8, CIFAR-10 Batch 1:  print stats\n",
      "Cost = 0.7635976672172546 - Validation Accuracy = 0.5590000152587891\n",
      "Epoch  9, CIFAR-10 Batch 1:  print stats\n",
      "Cost = 0.5317419767379761 - Validation Accuracy = 0.5425999760627747\n",
      "Epoch 10, CIFAR-10 Batch 1:  print stats\n",
      "Cost = 0.5163707137107849 - Validation Accuracy = 0.5687999725341797\n",
      "Epoch 11, CIFAR-10 Batch 1:  print stats\n",
      "Cost = 0.36634984612464905 - Validation Accuracy = 0.5546000003814697\n",
      "Epoch 12, CIFAR-10 Batch 1:  print stats\n",
      "Cost = 0.1937413215637207 - Validation Accuracy = 0.5690000057220459\n",
      "Epoch 13, CIFAR-10 Batch 1:  print stats\n",
      "Cost = 0.19090254604816437 - Validation Accuracy = 0.5806000232696533\n",
      "Epoch 14, CIFAR-10 Batch 1:  print stats\n",
      "Cost = 0.20341312885284424 - Validation Accuracy = 0.5691999793052673\n",
      "Epoch 15, CIFAR-10 Batch 1:  print stats\n",
      "Cost = 0.145356684923172 - Validation Accuracy = 0.5843999981880188\n",
      "Epoch 16, CIFAR-10 Batch 1:  print stats\n",
      "Cost = 0.08880656957626343 - Validation Accuracy = 0.5694000124931335\n",
      "Epoch 17, CIFAR-10 Batch 1:  print stats\n",
      "Cost = 0.071205735206604 - Validation Accuracy = 0.5794000029563904\n",
      "Epoch 18, CIFAR-10 Batch 1:  print stats\n",
      "Cost = 0.11957880109548569 - Validation Accuracy = 0.5630000233650208\n",
      "Epoch 19, CIFAR-10 Batch 1:  print stats\n",
      "Cost = 0.01933647319674492 - Validation Accuracy = 0.5649999976158142\n",
      "Epoch 20, CIFAR-10 Batch 1:  print stats\n",
      "Cost = 0.07160110771656036 - Validation Accuracy = 0.5626000165939331\n"
     ]
    }
   ],
   "source": [
    "\"\"\"\n",
    "DON'T MODIFY ANYTHING IN THIS CELL\n",
    "\"\"\"\n",
    "print('Checking the Training on a Single Batch...')\n",
    "with tf.Session() as sess:\n",
    "    # Initializing the variables\n",
    "    sess.run(tf.global_variables_initializer())\n",
    "    \n",
    "    # Training cycle\n",
    "    for epoch in range(epochs):\n",
    "        batch_i = 1\n",
    "        for batch_features, batch_labels in helper.load_preprocess_training_batch(batch_i, batch_size):\n",
    "            train_neural_network(sess, optimizer, keep_probability, batch_features, batch_labels)\n",
    "        print('Epoch {:>2}, CIFAR-10 Batch {}:  '.format(epoch + 1, batch_i), end='')\n",
    "        print_stats(sess, batch_features, batch_labels, cost, accuracy)"
   ]
  },
  {
   "cell_type": "markdown",
   "metadata": {},
   "source": [
    "### Fully Train the Model\n",
    "Now that you got a good accuracy with a single CIFAR-10 batch, try it with all five batches."
   ]
  },
  {
   "cell_type": "code",
   "execution_count": 20,
   "metadata": {},
   "outputs": [
    {
     "name": "stdout",
     "output_type": "stream",
     "text": [
      "Training...\n",
      "Epoch  1, CIFAR-10 Batch 1:  print stats\n",
      "Cost = 1.6892503499984741 - Validation Accuracy = 0.4142000079154968\n",
      "Epoch  1, CIFAR-10 Batch 2:  print stats\n",
      "Cost = 1.1488322019577026 - Validation Accuracy = 0.4722000062465668\n",
      "Epoch  1, CIFAR-10 Batch 3:  print stats\n",
      "Cost = 1.4341758489608765 - Validation Accuracy = 0.5432000160217285\n",
      "Epoch  1, CIFAR-10 Batch 4:  print stats\n",
      "Cost = 1.578436255455017 - Validation Accuracy = 0.5658000111579895\n",
      "Epoch  1, CIFAR-10 Batch 5:  print stats\n",
      "Cost = 1.182462453842163 - Validation Accuracy = 0.6057999730110168\n",
      "Epoch  2, CIFAR-10 Batch 1:  print stats\n",
      "Cost = 1.1901204586029053 - Validation Accuracy = 0.5898000001907349\n",
      "Epoch  2, CIFAR-10 Batch 2:  print stats\n",
      "Cost = 0.8717650175094604 - Validation Accuracy = 0.6259999871253967\n",
      "Epoch  2, CIFAR-10 Batch 3:  print stats\n",
      "Cost = 1.0594239234924316 - Validation Accuracy = 0.6417999863624573\n",
      "Epoch  2, CIFAR-10 Batch 4:  print stats\n",
      "Cost = 1.0174849033355713 - Validation Accuracy = 0.628600001335144\n",
      "Epoch  2, CIFAR-10 Batch 5:  print stats\n",
      "Cost = 0.9716078042984009 - Validation Accuracy = 0.6620000004768372\n",
      "Epoch  3, CIFAR-10 Batch 1:  print stats\n",
      "Cost = 0.8676738739013672 - Validation Accuracy = 0.6611999869346619\n",
      "Epoch  3, CIFAR-10 Batch 2:  print stats\n",
      "Cost = 0.8795860409736633 - Validation Accuracy = 0.650600016117096\n",
      "Epoch  3, CIFAR-10 Batch 3:  print stats\n",
      "Cost = 0.9197924733161926 - Validation Accuracy = 0.6876000165939331\n",
      "Epoch  3, CIFAR-10 Batch 4:  print stats\n",
      "Cost = 0.9541560411453247 - Validation Accuracy = 0.6715999841690063\n",
      "Epoch  3, CIFAR-10 Batch 5:  print stats\n",
      "Cost = 0.9027054905891418 - Validation Accuracy = 0.657800018787384\n",
      "Epoch  4, CIFAR-10 Batch 1:  print stats\n",
      "Cost = 0.866744339466095 - Validation Accuracy = 0.6923999786376953\n",
      "Epoch  4, CIFAR-10 Batch 2:  print stats\n",
      "Cost = 0.6076729893684387 - Validation Accuracy = 0.6833999752998352\n",
      "Epoch  4, CIFAR-10 Batch 3:  print stats\n",
      "Cost = 0.6921834349632263 - Validation Accuracy = 0.6881999969482422\n",
      "Epoch  4, CIFAR-10 Batch 4:  print stats\n",
      "Cost = 0.6183620691299438 - Validation Accuracy = 0.704800009727478\n",
      "Epoch  4, CIFAR-10 Batch 5:  print stats\n",
      "Cost = 0.5547682642936707 - Validation Accuracy = 0.6904000043869019\n",
      "Epoch  5, CIFAR-10 Batch 1:  print stats\n",
      "Cost = 0.7938560843467712 - Validation Accuracy = 0.6988000273704529\n",
      "Epoch  5, CIFAR-10 Batch 2:  print stats\n",
      "Cost = 0.7794550657272339 - Validation Accuracy = 0.6808000206947327\n",
      "Epoch  5, CIFAR-10 Batch 3:  print stats\n",
      "Cost = 0.47222059965133667 - Validation Accuracy = 0.7102000117301941\n",
      "Epoch  5, CIFAR-10 Batch 4:  print stats\n",
      "Cost = 0.5662302374839783 - Validation Accuracy = 0.6962000131607056\n",
      "Epoch  5, CIFAR-10 Batch 5:  print stats\n",
      "Cost = 0.3553045690059662 - Validation Accuracy = 0.7039999961853027\n",
      "Epoch  6, CIFAR-10 Batch 1:  print stats\n",
      "Cost = 0.667855978012085 - Validation Accuracy = 0.6894000172615051\n",
      "Epoch  6, CIFAR-10 Batch 2:  print stats\n",
      "Cost = 0.4187852740287781 - Validation Accuracy = 0.7052000164985657\n",
      "Epoch  6, CIFAR-10 Batch 3:  print stats\n",
      "Cost = 0.37721896171569824 - Validation Accuracy = 0.7067999839782715\n",
      "Epoch  6, CIFAR-10 Batch 4:  print stats\n",
      "Cost = 0.43628114461898804 - Validation Accuracy = 0.70660001039505\n",
      "Epoch  6, CIFAR-10 Batch 5:  print stats\n",
      "Cost = 0.42525514960289 - Validation Accuracy = 0.7031999826431274\n",
      "Epoch  7, CIFAR-10 Batch 1:  print stats\n",
      "Cost = 0.3567952811717987 - Validation Accuracy = 0.6913999915122986\n",
      "Epoch  7, CIFAR-10 Batch 2:  print stats\n",
      "Cost = 0.41490238904953003 - Validation Accuracy = 0.7098000049591064\n",
      "Epoch  7, CIFAR-10 Batch 3:  print stats\n",
      "Cost = 0.34983736276626587 - Validation Accuracy = 0.7085999846458435\n",
      "Epoch  7, CIFAR-10 Batch 4:  print stats\n",
      "Cost = 0.33608001470565796 - Validation Accuracy = 0.7250000238418579\n",
      "Epoch  7, CIFAR-10 Batch 5:  print stats\n",
      "Cost = 0.28824383020401 - Validation Accuracy = 0.7138000130653381\n",
      "Epoch  8, CIFAR-10 Batch 1:  print stats\n",
      "Cost = 0.16867595911026 - Validation Accuracy = 0.6962000131607056\n",
      "Epoch  8, CIFAR-10 Batch 2:  print stats\n",
      "Cost = 0.30083391070365906 - Validation Accuracy = 0.6966000199317932\n",
      "Epoch  8, CIFAR-10 Batch 3:  print stats\n",
      "Cost = 0.2171071320772171 - Validation Accuracy = 0.7160000205039978\n",
      "Epoch  8, CIFAR-10 Batch 4:  print stats\n",
      "Cost = 0.43373626470565796 - Validation Accuracy = 0.7057999968528748\n",
      "Epoch  8, CIFAR-10 Batch 5:  print stats\n",
      "Cost = 0.5220367908477783 - Validation Accuracy = 0.7085999846458435\n",
      "Epoch  9, CIFAR-10 Batch 1:  print stats\n",
      "Cost = 0.2558726668357849 - Validation Accuracy = 0.6754000186920166\n",
      "Epoch  9, CIFAR-10 Batch 2:  print stats\n",
      "Cost = 0.5585392713546753 - Validation Accuracy = 0.6949999928474426\n",
      "Epoch  9, CIFAR-10 Batch 3:  print stats\n",
      "Cost = 0.3348388671875 - Validation Accuracy = 0.7111999988555908\n",
      "Epoch  9, CIFAR-10 Batch 4:  print stats\n",
      "Cost = 0.4502635896205902 - Validation Accuracy = 0.7193999886512756\n",
      "Epoch  9, CIFAR-10 Batch 5:  print stats\n",
      "Cost = 0.25047582387924194 - Validation Accuracy = 0.7200000286102295\n",
      "Epoch 10, CIFAR-10 Batch 1:  print stats\n",
      "Cost = 0.4123331606388092 - Validation Accuracy = 0.704800009727478\n",
      "Epoch 10, CIFAR-10 Batch 2:  print stats\n",
      "Cost = 0.38379350304603577 - Validation Accuracy = 0.7089999914169312\n",
      "Epoch 10, CIFAR-10 Batch 3:  print stats\n",
      "Cost = 0.15530167520046234 - Validation Accuracy = 0.7152000069618225\n",
      "Epoch 10, CIFAR-10 Batch 4:  print stats\n",
      "Cost = 0.5429816246032715 - Validation Accuracy = 0.7210000157356262\n",
      "Epoch 10, CIFAR-10 Batch 5:  print stats\n",
      "Cost = 0.2177160680294037 - Validation Accuracy = 0.7178000211715698\n",
      "Epoch 11, CIFAR-10 Batch 1:  print stats\n",
      "Cost = 0.3541801869869232 - Validation Accuracy = 0.6967999935150146\n",
      "Epoch 11, CIFAR-10 Batch 2:  print stats\n",
      "Cost = 0.34434735774993896 - Validation Accuracy = 0.717199981212616\n",
      "Epoch 11, CIFAR-10 Batch 3:  print stats\n",
      "Cost = 0.10857349634170532 - Validation Accuracy = 0.7232000231742859\n",
      "Epoch 11, CIFAR-10 Batch 4:  print stats\n",
      "Cost = 0.4226084351539612 - Validation Accuracy = 0.7251999974250793\n",
      "Epoch 11, CIFAR-10 Batch 5:  print stats\n",
      "Cost = 0.3210422694683075 - Validation Accuracy = 0.7235999703407288\n",
      "Epoch 12, CIFAR-10 Batch 1:  print stats\n",
      "Cost = 0.24370750784873962 - Validation Accuracy = 0.718999981880188\n",
      "Epoch 12, CIFAR-10 Batch 2:  print stats\n",
      "Cost = 0.25300532579421997 - Validation Accuracy = 0.7149999737739563\n",
      "Epoch 12, CIFAR-10 Batch 3:  print stats\n",
      "Cost = 0.5063543319702148 - Validation Accuracy = 0.7131999731063843\n",
      "Epoch 12, CIFAR-10 Batch 4:  print stats\n",
      "Cost = 0.2661186754703522 - Validation Accuracy = 0.7311999797821045\n",
      "Epoch 12, CIFAR-10 Batch 5:  print stats\n",
      "Cost = 0.3329711854457855 - Validation Accuracy = 0.7075999975204468\n",
      "Epoch 13, CIFAR-10 Batch 1:  print stats\n",
      "Cost = 0.32561418414115906 - Validation Accuracy = 0.7067999839782715\n",
      "Epoch 13, CIFAR-10 Batch 2:  print stats\n",
      "Cost = 0.16408278048038483 - Validation Accuracy = 0.7192000150680542\n",
      "Epoch 13, CIFAR-10 Batch 3:  print stats\n",
      "Cost = 0.3927008807659149 - Validation Accuracy = 0.7110000252723694\n",
      "Epoch 13, CIFAR-10 Batch 4:  print stats\n",
      "Cost = 0.17345654964447021 - Validation Accuracy = 0.7148000001907349\n",
      "Epoch 13, CIFAR-10 Batch 5:  print stats\n",
      "Cost = 0.588887631893158 - Validation Accuracy = 0.7017999887466431\n",
      "Epoch 14, CIFAR-10 Batch 1:  print stats\n",
      "Cost = 0.1094820499420166 - Validation Accuracy = 0.7063999772071838\n",
      "Epoch 14, CIFAR-10 Batch 2:  print stats\n",
      "Cost = 0.29619306325912476 - Validation Accuracy = 0.7138000130653381\n",
      "Epoch 14, CIFAR-10 Batch 3:  print stats\n",
      "Cost = 0.27815431356430054 - Validation Accuracy = 0.7103999853134155\n",
      "Epoch 14, CIFAR-10 Batch 4:  print stats\n",
      "Cost = 0.22228071093559265 - Validation Accuracy = 0.7202000021934509\n",
      "Epoch 14, CIFAR-10 Batch 5:  print stats\n",
      "Cost = 0.16710606217384338 - Validation Accuracy = 0.7192000150680542\n",
      "Epoch 15, CIFAR-10 Batch 1:  print stats\n",
      "Cost = 0.23597733676433563 - Validation Accuracy = 0.7134000062942505\n",
      "Epoch 15, CIFAR-10 Batch 2:  print stats\n",
      "Cost = 0.2544991672039032 - Validation Accuracy = 0.7139999866485596\n",
      "Epoch 15, CIFAR-10 Batch 3:  print stats\n",
      "Cost = 0.34327268600463867 - Validation Accuracy = 0.7057999968528748\n",
      "Epoch 15, CIFAR-10 Batch 4:  print stats\n",
      "Cost = 0.21448154747486115 - Validation Accuracy = 0.7135999798774719\n",
      "Epoch 15, CIFAR-10 Batch 5:  print stats\n"
     ]
    },
    {
     "name": "stdout",
     "output_type": "stream",
     "text": [
      "Cost = 0.461901992559433 - Validation Accuracy = 0.7034000158309937\n",
      "Epoch 16, CIFAR-10 Batch 1:  print stats\n",
      "Cost = 0.09184771031141281 - Validation Accuracy = 0.717199981212616\n",
      "Epoch 16, CIFAR-10 Batch 2:  print stats\n",
      "Cost = 0.5955998301506042 - Validation Accuracy = 0.7049999833106995\n",
      "Epoch 16, CIFAR-10 Batch 3:  print stats\n",
      "Cost = 0.1467665731906891 - Validation Accuracy = 0.7160000205039978\n",
      "Epoch 16, CIFAR-10 Batch 4:  print stats\n",
      "Cost = 0.06027704477310181 - Validation Accuracy = 0.7167999744415283\n",
      "Epoch 16, CIFAR-10 Batch 5:  print stats\n",
      "Cost = 0.11864110082387924 - Validation Accuracy = 0.7125999927520752\n",
      "Epoch 17, CIFAR-10 Batch 1:  print stats\n",
      "Cost = 0.12179259955883026 - Validation Accuracy = 0.7027999758720398\n",
      "Epoch 17, CIFAR-10 Batch 2:  print stats\n",
      "Cost = 0.17691795527935028 - Validation Accuracy = 0.7253999710083008\n",
      "Epoch 17, CIFAR-10 Batch 3:  print stats\n",
      "Cost = 0.051158607006073 - Validation Accuracy = 0.7232000231742859\n",
      "Epoch 17, CIFAR-10 Batch 4:  print stats\n",
      "Cost = 0.1258925199508667 - Validation Accuracy = 0.7071999907493591\n",
      "Epoch 17, CIFAR-10 Batch 5:  print stats\n",
      "Cost = 0.10148520767688751 - Validation Accuracy = 0.7265999913215637\n",
      "Epoch 18, CIFAR-10 Batch 1:  print stats\n",
      "Cost = 0.11332766711711884 - Validation Accuracy = 0.7184000015258789\n",
      "Epoch 18, CIFAR-10 Batch 2:  print stats\n",
      "Cost = 0.11195693910121918 - Validation Accuracy = 0.7192000150680542\n",
      "Epoch 18, CIFAR-10 Batch 3:  print stats\n",
      "Cost = 0.03244214132428169 - Validation Accuracy = 0.7117999792098999\n",
      "Epoch 18, CIFAR-10 Batch 4:  print stats\n",
      "Cost = 0.0893445685505867 - Validation Accuracy = 0.72079998254776\n",
      "Epoch 18, CIFAR-10 Batch 5:  print stats\n",
      "Cost = 0.059337180107831955 - Validation Accuracy = 0.7125999927520752\n",
      "Epoch 19, CIFAR-10 Batch 1:  print stats\n",
      "Cost = 0.05451716110110283 - Validation Accuracy = 0.7089999914169312\n",
      "Epoch 19, CIFAR-10 Batch 2:  print stats\n",
      "Cost = 0.05520479008555412 - Validation Accuracy = 0.7188000082969666\n",
      "Epoch 19, CIFAR-10 Batch 3:  print stats\n",
      "Cost = 0.12055201828479767 - Validation Accuracy = 0.7038000226020813\n",
      "Epoch 19, CIFAR-10 Batch 4:  print stats\n",
      "Cost = 0.3007084131240845 - Validation Accuracy = 0.7318000197410583\n",
      "Epoch 19, CIFAR-10 Batch 5:  print stats\n",
      "Cost = 0.07418286800384521 - Validation Accuracy = 0.7129999995231628\n",
      "Epoch 20, CIFAR-10 Batch 1:  print stats\n",
      "Cost = 0.04898358881473541 - Validation Accuracy = 0.7166000008583069\n",
      "Epoch 20, CIFAR-10 Batch 2:  print stats\n",
      "Cost = 0.07498443871736526 - Validation Accuracy = 0.7088000178337097\n",
      "Epoch 20, CIFAR-10 Batch 3:  print stats\n",
      "Cost = 0.07268650084733963 - Validation Accuracy = 0.7174000144004822\n",
      "Epoch 20, CIFAR-10 Batch 4:  print stats\n",
      "Cost = 0.12281502783298492 - Validation Accuracy = 0.7156000137329102\n",
      "Epoch 20, CIFAR-10 Batch 5:  print stats\n",
      "Cost = 0.23217988014221191 - Validation Accuracy = 0.7202000021934509\n"
     ]
    }
   ],
   "source": [
    "\"\"\"\n",
    "DON'T MODIFY ANYTHING IN THIS CELL\n",
    "\"\"\"\n",
    "save_model_path = './image_classification'\n",
    "\n",
    "print('Training...')\n",
    "with tf.Session() as sess:\n",
    "    # Initializing the variables\n",
    "    sess.run(tf.global_variables_initializer())\n",
    "    \n",
    "    # Training cycle\n",
    "    for epoch in range(epochs):\n",
    "        # Loop over all batches\n",
    "        n_batches = 5\n",
    "        for batch_i in range(1, n_batches + 1):\n",
    "            for batch_features, batch_labels in helper.load_preprocess_training_batch(batch_i, batch_size):\n",
    "                train_neural_network(sess, optimizer, keep_probability, batch_features, batch_labels)\n",
    "            print('Epoch {:>2}, CIFAR-10 Batch {}:  '.format(epoch + 1, batch_i), end='')\n",
    "            print_stats(sess, batch_features, batch_labels, cost, accuracy)\n",
    "            \n",
    "    # Save Model\n",
    "    saver = tf.train.Saver()\n",
    "    save_path = saver.save(sess, save_model_path)"
   ]
  },
  {
   "cell_type": "markdown",
   "metadata": {},
   "source": [
    "# Checkpoint\n",
    "The model has been saved to disk.\n",
    "## Test Model\n",
    "Test your model against the test dataset.  This will be your final accuracy. You should have an accuracy greater than 50%. If you don't, keep tweaking the model architecture and parameters."
   ]
  },
  {
   "cell_type": "code",
   "execution_count": 21,
   "metadata": {},
   "outputs": [
    {
     "name": "stdout",
     "output_type": "stream",
     "text": [
      "INFO:tensorflow:Restoring parameters from ./image_classification\n",
      "Testing Accuracy: 0.7135000011697411\n",
      "\n"
     ]
    },
    {
     "data": {
      "image/png": "[encoded data removed]",
      "text/plain": [
       "<matplotlib.figure.Figure at 0x110d26a90>"
      ]
     },
     "metadata": {
      "image/png": {
       "height": 319,
       "width": 350
      }
     },
     "output_type": "display_data"
    }
   ],
   "source": [
    "\"\"\"\n",
    "DON'T MODIFY ANYTHING IN THIS CELL\n",
    "\"\"\"\n",
    "%matplotlib inline\n",
    "%config InlineBackend.figure_format = 'retina'\n",
    "\n",
    "import tensorflow as tf\n",
    "import pickle\n",
    "import helper\n",
    "import random\n",
    "\n",
    "# Set batch size if not already set\n",
    "try:\n",
    "    if batch_size:\n",
    "        pass\n",
    "except NameError:\n",
    "    batch_size = 64\n",
    "\n",
    "save_model_path = './image_classification'\n",
    "n_samples = 4\n",
    "top_n_predictions = 3\n",
    "\n",
    "def test_model():\n",
    "    \"\"\"\n",
    "    Test the saved model against the test dataset\n",
    "    \"\"\"\n",
    "\n",
    "    test_features, test_labels = pickle.load(open('preprocess_training.p', mode='rb'))\n",
    "    loaded_graph = tf.Graph()\n",
    "\n",
    "    with tf.Session(graph=loaded_graph) as sess:\n",
    "        # Load model\n",
    "        loader = tf.train.import_meta_graph(save_model_path + '.meta')\n",
    "        loader.restore(sess, save_model_path)\n",
    "\n",
    "        # Get Tensors from loaded model\n",
    "        loaded_x = loaded_graph.get_tensor_by_name('x:0')\n",
    "        loaded_y = loaded_graph.get_tensor_by_name('y:0')\n",
    "        loaded_keep_prob = loaded_graph.get_tensor_by_name('keep_prob:0')\n",
    "        loaded_logits = loaded_graph.get_tensor_by_name('logits:0')\n",
    "        loaded_acc = loaded_graph.get_tensor_by_name('accuracy:0')\n",
    "        \n",
    "        # Get accuracy in batches for memory limitations\n",
    "        test_batch_acc_total = 0\n",
    "        test_batch_count = 0\n",
    "        \n",
    "        for train_feature_batch, train_label_batch in helper.batch_features_labels(test_features, test_labels, batch_size):\n",
    "            test_batch_acc_total += sess.run(\n",
    "                loaded_acc,\n",
    "                feed_dict={loaded_x: train_feature_batch, loaded_y: train_label_batch, loaded_keep_prob: 1.0})\n",
    "            test_batch_count += 1\n",
    "\n",
    "        print('Testing Accuracy: {}\\n'.format(test_batch_acc_total/test_batch_count))\n",
    "\n",
    "        # Print Random Samples\n",
    "        random_test_features, random_test_labels = tuple(zip(*random.sample(list(zip(test_features, test_labels)), n_samples)))\n",
    "        random_test_predictions = sess.run(\n",
    "            tf.nn.top_k(tf.nn.softmax(loaded_logits), top_n_predictions),\n",
    "            feed_dict={loaded_x: random_test_features, loaded_y: random_test_labels, loaded_keep_prob: 1.0})\n",
    "        helper.display_image_predictions(random_test_features, random_test_labels, random_test_predictions)\n",
    "\n",
    "\n",
    "test_model()"
   ]
  },
  {
   "cell_type": "markdown",
   "metadata": {},
   "source": [
    "## Why 50-80% Accuracy?\n",
    "You might be wondering why you can't get an accuracy any higher. First things first, 50% isn't bad for a simple CNN.  Pure guessing would get you 10% accuracy. That's because there are many more techniques that can be applied to your model and we recemmond that once you are done with this project, you explore!\n",
    "\n",
    "## Submitting This Project\n",
    "When submitting this project, make sure to run all the cells before saving the notebook.  Save the notebook file as \"image_classification.ipynb\" and save it as a HTML file under \"File\" -> \"Download as\".  Include the \"helper.py\" and \"problem_unittests.py\" files in your submission."
   ]
  }
 ],
 "metadata": {
  "kernelspec": {
   "display_name": "Python 3",
   "language": "python",
   "name": "python3"
  },
  "language_info": {
   "codemirror_mode": {
    "name": "ipython",
    "version": 3
   },
   "file_extension": ".py",
   "mimetype": "text/x-python",
   "name": "python",
   "nbconvert_exporter": "python",
   "pygments_lexer": "ipython3",
   "version": "3.6.4"
  }
 },
 "nbformat": 4,
 "nbformat_minor": 1
}
